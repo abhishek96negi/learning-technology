{
 "cells": [
  {
   "cell_type": "markdown",
   "id": "2195a004",
   "metadata": {},
   "source": [
    "Pub/Sub (short for publish/subscribe) is a messaging technology that facilitates commuincation between different components in a distributed system.\n",
    "\n",
    "It is an asynchronous and scalable messaging service that separates the services responsible for producing messages from those responsible for producing messages from those responsible for processing them.\n",
    "\n",
    "It can be used in Real-time messaging and chat, News updates, Alert and notification, IoT devices, Load Balancing, Online gaming, live streaming etc."
   ]
  },
  {
   "cell_type": "markdown",
   "id": "fbd8313b",
   "metadata": {},
   "source": [
    "## How Pub/Sub Works\n",
    "\n",
    "Pub/Sub is fundamentally a simple communication model where a broker receives messages from a publisher and distributes them to one or more subscribers.\n",
    "\n",
    "### Type of Models:\n",
    "\n",
    "* **One to one** :- one publisher one subscriber.\n",
    "* **One to many** :- one publisher many subscribers.\n",
    "* **Many to one** :- many publishers one subscriber.\n",
    "* **Many to many** :- many publishers many subscribers."
   ]
  },
  {
   "cell_type": "markdown",
   "id": "b2258928",
   "metadata": {},
   "source": [
    "* **Publisher** :- Publisher is an application or service that sends messages.\n",
    "* **Subscriber** :- Subscriber is an application or service that receives messages.\n",
    "* **Channel** :- Channel is the subject or the information feed. The publisher can push messages to the channel, which will broadcast messages to the subscribers.\n",
    "* **Message** :- Message holds the received or transmitted data throughout the system.\n",
    "* **Broker** :- Broker is responsible for guiding the messages throughout the system. It acts as a middleman to establish and exchange commuincation between the publisher and subscriber."
   ]
  },
  {
   "cell_type": "markdown",
   "id": "fe4b9653",
   "metadata": {},
   "source": [
    "### Commands\n",
    "\n",
    "* **SUBSCRIBER** :- It is used to subscribes the client to the specified channels.\n",
    "* **PUBLISH** :- It is used to post a message to the given channel.\n",
    "* **UNSUBSCRIBE** :- It is used to unsubscribes the client from the given channels, or from all of them if none is given.\n",
    "\n",
    "* **PSUBSCRIBE** :- It is used to subscribes the client to the given patterns.\n",
    "* **PUBSUB CHANNELS** :- It is used to list the currently active channels.\n",
    "* **PUBSUB NUMSUB**:- It returns the number of subscribers (exclusive of clients subscribed to patterns) for the specified channels.\n",
    "* **PUNSUBSCRIBE** :- It is used to unsubscribes the client from the given patterns, or from all of them if none is given.\n"
   ]
  },
  {
   "cell_type": "code",
   "execution_count": null,
   "id": "08353710-543b-45ef-8ca8-b1437b01987d",
   "metadata": {},
   "outputs": [],
   "source": [
    "import redis\n",
    "import json\n",
    "\n",
    "client = redis.StrictRedis(\n",
    "    host='localhost',\n",
    "    port=6379,\n",
    "    password='XXXXXX'\n",
    ")\n",
    "\n",
    "def publish_message(message):\n",
    "    \"\"\" \n",
    "    Publishes a message to the Redis channel.\n",
    "    \"\"\"\n",
    "    r.publish(topic, json.dumps(message))"
   ]
  },
  {
   "cell_type": "code",
   "execution_count": null,
   "id": "fb6df9d1-4941-494b-adde-a2b57d96661d",
   "metadata": {},
   "outputs": [],
   "source": [
    "def subscribe_messages():\n",
    "    \"\"\"\n",
    "    Listens for messages on the Redis channel.\n",
    "    \"\"\" \n",
    "    pubsub = client.pubsub()\n",
    "    pubsub.subscribe(topic)\n",
    "\n",
    "    for m in pubsub.listen():\n",
    "        if m['type'] == 'message':\n",
    "            message = json.loads(m['data']) \n",
    "            print(f'Received message: {message}')"
   ]
  },
  {
   "cell_type": "code",
   "execution_count": null,
   "id": "b3684f81-bef2-4958-a67f-88eebcf5542b",
   "metadata": {},
   "outputs": [],
   "source": [
    "# Open two separate python consoles to run publisher & subscriber\n",
    "publish_message({'user': 'John', 'text': 'Hi!'})\n",
    "subscribe_messages()"
   ]
  }
 ],
 "metadata": {
  "kernelspec": {
   "display_name": "Python 3 (ipykernel)",
   "language": "python",
   "name": "python3"
  },
  "language_info": {
   "codemirror_mode": {
    "name": "ipython",
    "version": 3
   },
   "file_extension": ".py",
   "mimetype": "text/x-python",
   "name": "python",
   "nbconvert_exporter": "python",
   "pygments_lexer": "ipython3",
   "version": "3.12.0"
  }
 },
 "nbformat": 4,
 "nbformat_minor": 5
}
