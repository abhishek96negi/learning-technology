{
 "cells": [
  {
   "cell_type": "markdown",
   "id": "c5ac2656",
   "metadata": {},
   "source": [
    "# Introduction to Redis\n",
    "\n",
    "* Redis is an open source (BSD licensed), in-memory data structure store used as a database, cache, message broker, and streaming engine.\n",
    "\n",
    "* Redis is written in ANSI C and works on most POSIX systems like Linux, *BSD, and Mac OS X, without external dependenices. Linux and OS X are the two operating systems where Redis is developed and tested the most, and we recommend using Linux for deployment.\n",
    "\n",
    "* There is no official support for Windows builds.\n",
    "\n",
    "* A list of well known companies using Redis: Twitter, GitHub, Snapchat, Craigslist, StackOverflow."
   ]
  },
  {
   "cell_type": "markdown",
   "id": "f785d3dc",
   "metadata": {},
   "source": [
    "## Install Redis on Ubuntu\n",
    "\n",
    "* `sudo apt update`\n",
    "* `sudo apt install redis`\n",
    "* `sudo systemctl status redis`\n",
    "* `sudo systemctl enable redis`\n",
    "* `sudo systemctl start redis`\n",
    "* `sudo systemctl stop redis`\n",
    "* `sudo systemctl restart redis`\n",
    "* `sudo systemctl restart redis-server`\n",
    "* `sudo systemctl restart redis.service`\n",
    "* `redis-cli --version`\n",
    "* `sudo snap install redis`\n",
    "* `sudo snap enable redis`\n",
    "* `sudo snap start redis`\n",
    "* `sudo snap stop redis`\n",
    "* `sudo snap restart redis`\n",
    "* `sudo snap services`\n",
    "* `sudo snap alias redis.cli redis-cli`\n",
    "* `sudo snap unalias redis-cli`"
   ]
  },
  {
   "cell_type": "markdown",
   "id": "48f347f8",
   "metadata": {},
   "source": [
    "## Access to redis-cli\n",
    "\n",
    "* `redis-server`\n",
    "* `redis-cli`\n",
    "* `redis-cli -h host -p port -a password`"
   ]
  },
  {
   "cell_type": "markdown",
   "id": "8a9ab4ec",
   "metadata": {},
   "source": [
    "# Redis\n",
    "\n",
    "### What is redis-server ?\n",
    "\n",
    "**redis-server** is the Redis server process or daemon that runs in the background and listens for client connections. It is the main component of Redis, responsible for storing and managing data in memory.\n",
    "\n",
    "\n",
    "### What is redis-cli ?\n",
    "\n",
    "The Redis command line interface (redis-cli) is a terminal program used to send commands to and read replies from the Redis server.\n",
    "\n",
    "Basic syntax is **COMMAND key_name value**\n",
    "\n",
    "\n",
    "### What is RedisInsight ?\n",
    "\n",
    "RedisInsight combines a graphical user interface with Redis CLI to let you work with any Redis deployment.\n",
    "\n",
    "You can visually browse and interact with data, take advantage of diagnostic tools, learn by example, and much more. Best of all, RedisInsight is free."
   ]
  },
  {
   "cell_type": "markdown",
   "id": "b8eceac3",
   "metadata": {},
   "source": [
    "## Keys\n",
    "\n",
    "* Redis keys are binary safe, this means that you can use any binary sequence as a key, from a string like \"foo\" to the content of a JPEG file.\n",
    "\n",
    "* The empty string is also a valid key.\n",
    "\n",
    "* The maximum allowed key size is 512 MB.\n",
    "\n",
    "* Key should not be either very long or very short.\n",
    "\n",
    "* For instance a key of 1024 bytes is a bad idea in the other hand writing \"U1000flw\" as a key if you can instead write \"user:1000:followers\" is also a bad idea because \"user:1000:followers\" seems more readable.\n",
    "\n",
    "* While short keys will obviously consume a bit less memory, your job is to find the right balance.\n",
    "\n",
    "* Try to stick with a schema. For instance \"object-type:id\" is a good idea, as in \"user:1000\".\n",
    "\n",
    "* Dots or dashes are often used for multi-word fields, as in \"comment:4321:reply.to\" or \"comment:4321:reply-to\".\n",
    "\n",
    "* Some more Examples:- \n",
    "    \n",
    "    - name\n",
    "    - roll\n",
    "    - user:1\n",
    "    - page:view:2\n",
    "    - Comment:145:reply-to"
   ]
  },
  {
   "cell_type": "markdown",
   "id": "0fe40b2c",
   "metadata": {},
   "source": [
    "## Redis Data Types\n",
    "\n",
    "* **Strings** :- Redis strings are the most basic Redis data type, representing a sequence of bytes.\n",
    "\n",
    "* **Lists** :- Redis lists are lists of strings sorted by insertion order.\n",
    "\n",
    "* **Sets** :- Redis sets are unordered collections of unique strings that act like the sets from your favourite programming language (for example, Java HashSets, Python sets, and so on).\n",
    "\n",
    "* **Sorted sets** :- Redis sorted sets are collections of unique strings that maintain order by each string's associated score.\n",
    "\n",
    "* **Hashes** :- Redis hashes are record types modeled as collections of filed-value paris. Hashes are handy to represent objects.\n",
    "\n",
    "* **Streams** :- A Redis stream is a data structure that acts like an append-only log. Streams help record events in they occur and then syndicate them for processing.\n",
    "\n",
    "* **Geospatial indexes** :- Redis geospatial indexes are useful for finding locations within a given geographic radius or bounding box.\n",
    "\n",
    "* **Bitmaps** :- Redis bitmaps let you perform bitwise operations on strings."
   ]
  },
  {
   "cell_type": "markdown",
   "id": "305bd2d7",
   "metadata": {},
   "source": [
    "## Basic Configuration Commands\n",
    "\n",
    "* `config get *` - This command is used to get all config settings.\n",
    "* `config get requirepass` - This command is used to get specific config settings.\n",
    "* `config set requirepass value` - This command is used to set specific config settings.\n",
    "\n",
    "\n",
    "There is also a config file `/etc/redis/redis.conf` which can be used to get all configurations and set configuration."
   ]
  }
 ],
 "metadata": {
  "kernelspec": {
   "display_name": "Python 3 (ipykernel)",
   "language": "python",
   "name": "python3"
  },
  "language_info": {
   "codemirror_mode": {
    "name": "ipython",
    "version": 3
   },
   "file_extension": ".py",
   "mimetype": "text/x-python",
   "name": "python",
   "nbconvert_exporter": "python",
   "pygments_lexer": "ipython3",
   "version": "3.10.11"
  }
 },
 "nbformat": 4,
 "nbformat_minor": 5
}
