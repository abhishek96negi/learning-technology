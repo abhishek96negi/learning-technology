{
 "cells": [
  {
   "cell_type": "markdown",
   "id": "351350be",
   "metadata": {},
   "source": [
    "## Redis Master Slave - Replication\n",
    "\n",
    "* It allows replica Redis instances to be exact copies of master instance. The replica will automatically reconnect to the master every time the link breaks, and will attempt to be an exact copy of it regardless of what happens to the master.\n",
    "\n",
    "* A master can have multiple replicas.\n",
    "* Replicas are able to accept connections from other replicas.\n",
    "* In setups where Redis replication is used, it is strongly advised to have persistence turned on in the master and in the replicas.\n",
    "* When this is not possible, instances should be configured to avoid restarting automatically after a reboot."
   ]
  },
  {
   "cell_type": "markdown",
   "id": "53313595",
   "metadata": {},
   "source": [
    "![redis1](../image/redis/redis1.png)"
   ]
  }
 ],
 "metadata": {
  "kernelspec": {
   "display_name": "Python 3 (ipykernel)",
   "language": "python",
   "name": "python3"
  },
  "language_info": {
   "codemirror_mode": {
    "name": "ipython",
    "version": 3
   },
   "file_extension": ".py",
   "mimetype": "text/x-python",
   "name": "python",
   "nbconvert_exporter": "python",
   "pygments_lexer": "ipython3",
   "version": "3.12.0"
  }
 },
 "nbformat": 4,
 "nbformat_minor": 5
}
