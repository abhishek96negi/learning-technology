{
 "cells": [
  {
   "cell_type": "markdown",
   "id": "6834946a",
   "metadata": {},
   "source": [
    "Celery is a simple, flexible, and reliable distributed system to process vast amounts of messages, while providing operations with the tools required to maintain such a system.\n",
    "\n",
    "It's a task queue with focus on real-time processing, while also supporting task scheduling.\n",
    "\n",
    "Task queues are used as a mechanism to distribute work across threads or machines.\n",
    "\n",
    "A Celery system can consist of multiple workers and brokers, giving way to high availability and horizontal scaling.\n",
    "\n",
    "Celery allows you to execute background tasks asynchronously, which is especially useful for long-running or time-consuming operations that shouldn't block the main application.\n",
    "\n",
    "Celery is written in Python, but the protocol can be implemented in any language.\n",
    "\n",
    "Celery can run on a single machine, on multiple machines, or even across data centre."
   ]
  },
  {
   "cell_type": "markdown",
   "id": "6e8111de",
   "metadata": {},
   "source": [
    "## Request Response without Celery\n",
    "\n",
    "![celery1](../image/celery/celery1.png)"
   ]
  },
  {
   "cell_type": "markdown",
   "id": "c792318d",
   "metadata": {},
   "source": [
    "## How Celery works\n",
    "\n",
    "![celery2](../image/celery/celery2.png)\n",
    "\n",
    "* User Sends a Request to and Application which may be on a Server.\n",
    "\n",
    "* Application server handles the request, If there is time-consuming task then task will be enqueue to message broker.\n",
    "\n",
    "* If required return the reponse to User so user won't have to wait for completion of task. User can use application further and send another request.\n",
    "\n",
    "* In the backgorund, Celery worker continuously monitor task queue, when it finds a new task it starts to process it. The worker runs the task code asynchronously, independent of the user's request-response cycle.\n",
    "\n",
    "* The celery worker executes the task code, performing the required computation or operation.\n",
    "\n",
    "* Once the task is completed, it produces a result (if any) and stores it somewhere, as in the result backend (like Redis or a database)."
   ]
  },
  {
   "cell_type": "markdown",
   "id": "62d6fb32",
   "metadata": {},
   "source": [
    "## Response after Task Result\n",
    "\n",
    "* If the task result is needed at a later point or if the user makes a separate request to check the status or result of the task, the application can retrieve the task result from the result backend using Celery's API.\n",
    "\n",
    "* If the task result wasn't immediately available when the user made the initial request, and the application decided to send a response without waiting for the task, the user might make subsequent requests to fetch the result. The final response, containing the task result, is sent to the user."
   ]
  },
  {
   "cell_type": "markdown",
   "id": "162c6f4a",
   "metadata": {},
   "source": [
    "## Message Broker\n",
    "\n",
    "* In Celery, a message broker is a crucial component that acts as an intermediary between the Celery client (the application that sends tasks) and the Celery workers (the processes that execute the tasks).\n",
    "\n",
    "* It facilitates communication by passing messages containing task information from the client to the workets.\n",
    "\n",
    "* When a task is enqueued in Celery, the message broker receives the task message and stores it in a queue.\n",
    "\n",
    "* The primary functions of a message broker in Celery are Message Queueing, Task Distribution and Commuincation Channel.\n",
    "\n",
    "* Popular Message Brokers supported by Celery are RabbitMQ, Redis and Amazon Simple Queue Service(SQS)."
   ]
  }
 ],
 "metadata": {
  "kernelspec": {
   "display_name": "Python 3 (ipykernel)",
   "language": "python",
   "name": "python3"
  },
  "language_info": {
   "codemirror_mode": {
    "name": "ipython",
    "version": 3
   },
   "file_extension": ".py",
   "mimetype": "text/x-python",
   "name": "python",
   "nbconvert_exporter": "python",
   "pygments_lexer": "ipython3",
   "version": "3.10.11"
  }
 },
 "nbformat": 4,
 "nbformat_minor": 5
}
