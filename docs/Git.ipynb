{
 "cells": [
  {
   "cell_type": "markdown",
   "id": "c3cfe467",
   "metadata": {},
   "source": [
    "# What is Git?"
   ]
  },
  {
   "cell_type": "markdown",
   "id": "cc2d7cdb",
   "metadata": {},
   "source": [
    "[Git](https://git-scm.com/) is a free and open source distributed version control system designed to handle everything from small to very large projects with speed and efficiency.\n",
    "\n",
    "Other Tool similar to git is Mercurial."
   ]
  },
  {
   "cell_type": "markdown",
   "id": "cd0a6902",
   "metadata": {},
   "source": [
    "# What is Github?"
   ]
  },
  {
   "cell_type": "markdown",
   "id": "1e5006b3",
   "metadata": {},
   "source": [
    "It is web based hosting service for version control using Git. It hosts your source code projects in a variety of different programming languages and keeps track of the various changes made to every iteration.\n",
    "\n",
    "Other Website similar to [Github](https://github.com/) is [Bitbucket](https://bitbucket.org/) and [Gitlab](https://about.gitlab.com/)."
   ]
  },
  {
   "cell_type": "markdown",
   "id": "5ae91d5a",
   "metadata": {},
   "source": [
    "# Difference between Git and Github ?"
   ]
  },
  {
   "cell_type": "markdown",
   "id": "02ab3477",
   "metadata": {},
   "source": [
    "Git is a tool and Github is a web based hosting service which uses Git Tool."
   ]
  },
  {
   "cell_type": "markdown",
   "id": "f77c3c4b",
   "metadata": {},
   "source": [
    "# What is Repository?"
   ]
  },
  {
   "cell_type": "markdown",
   "id": "0a390c56",
   "metadata": {},
   "source": [
    "A repository (or \"repo\" for short) is a collection of files and directories that are managed by Git.\n",
    "\n",
    "A repository contains all the information about the project, including its history of changes, who made the changes, and when the changes were made.\n",
    "\n",
    "In other words, a repository is like a digital folder that contains all the files, code and documentation for a project.\n",
    "\n",
    "It allows multiple contributors to work on the project at the same time, keep track of changes made by others, and collaborate more effectively."
   ]
  },
  {
   "cell_type": "markdown",
   "id": "13ae562b",
   "metadata": {},
   "source": [
    "# Local Repository vs Remote Repository"
   ]
  },
  {
   "cell_type": "markdown",
   "id": "913dd28d",
   "metadata": {},
   "source": [
    "A **Local Repository** is the copy of the repository that exists on your own computer.\n",
    "\n",
    "It contains all the files, branches, commits, and other information related to your project, and you can use Git commands to manage and manipulate this repository as needed. \n",
    "\n",
    "A **Remote Repository**, on the other hand, is a copy of the repository that exists on a separate server or hosting service, such as Github, GitLab or Bitbucket.\n",
    "\n",
    "This copyt of the repository allows you to share your code with other developers and collabate on the same project.\n",
    "\n",
    "When you make changes to your local repository, you can use Git commands to push those changes to the remote repository, or you can pull changes from the remote repository to update your local copy.\n",
    "\n",
    "This allows multiple developers to wokr on t he same project and keep their local copies in sync with the latest changes."
   ]
  },
  {
   "cell_type": "markdown",
   "id": "cc46b73f",
   "metadata": {},
   "source": [
    "# .git Directory"
   ]
  },
  {
   "cell_type": "markdown",
   "id": "7afedca6",
   "metadata": {},
   "source": [
    "The .git directory is a hidden directory that Git uses to store all the metadata and object database for a Git repository.\n",
    "\n",
    "This directory is located at the root of the repository and contains all the information necessary to manage the repository, including the commit history, branches, tags, and configuration settings.\n",
    "\n",
    "The .git directory is essential to the operation of Git, and it should not be modified ordeleted manually, except in very specific circumstances.\n",
    "\n",
    "Any changes to the contents of this directory can result in data loss or corruption of the repository."
   ]
  },
  {
   "cell_type": "markdown",
   "id": "982db9cd",
   "metadata": {},
   "source": [
    "## .git Directory's Files and Folders\n",
    "\n",
    "* **HEAD**: This file contains a pointer to the current branch or commit that is checked out.\n",
    "\n",
    "* **objects**: This directory contains all the objects (commits, trees, and blobs) that Git uses to store file content and history. These objects are stored in subdirectories named with the first two characters of their SHA-1 hash values.\n",
    "\n",
    "* **refs**: This directory contains references to specific commits, such as branch and tag pointers. There are subdirectories within the refs directory for each type of reference, such as heads for branches and tags for tags.\n",
    "\n",
    "* **config**: This file contains configuration settings for the repository, such as user information, default branch name, and remote repository URLs.\n",
    "\n",
    "* **hooks**: This directory contains scripts that can be run automatically when certain Git event occur, such as committing or merging changes. These scripts can be used to enforce coding standards, run tests, or perform other actions.\n",
    "\n",
    "* **index**: This file is used by Git to track changes to the working directory and the changes for commit. It contains a list of file names, status flags, and SHA-1 hash value for each file that is being tracked.\n",
    "\n",
    "* **logs**: This directory contains logs of all the Git operations that have been performed on the repository, such as commits, merges, and branch updates.\n",
    "\n",
    "* **branches**: This file is used to store the SHA-1 hash value of the current branch head, which is used to determine the next commit ID when a new commit is created.\n",
    "\n",
    "* **description**: This file is used to provide a description of the Git repository for users who access it through a web interface.\n",
    "\n",
    "* **info**: This directory contains global information files for the repositoru. The files contained within the info directory can be used to configure certain aspects of Git's behaviour or to provide metadata about repository.\n",
    "\n",
    "* **FETCH HEAD**: This file is created by Git after a git fetch operation to store the SHA-1 hash values of the fetched commits."
   ]
  },
  {
   "cell_type": "markdown",
   "id": "748062ce",
   "metadata": {},
   "source": [
    "## What is Untracked File?\n",
    "\n",
    "An \"untracked file\" is a file in your Git repository that Git is not currently aware of or tracking.\n",
    "\n",
    "This means that Git is not monitoring the file for changes, and the file is not included in Git's history or any commits.\n",
    "\n",
    "When you create a new file in your Git repository, Git does not automatically start tracking it.\n",
    "\n",
    "If you accidentally delete a tracked file, you can restore it from the repository's history. However, if your delete an untracked file, it will be lost forever.\n",
    "\n",
    "## What is Tracked File?\n",
    "\n",
    "A \"tracked file\" is a file that Git is aware of and is being tracked by Git.\n",
    "\n",
    "This means that Git is actively monitoring the file for changes and is keeping track of its history in the Git repository.\n",
    "\n",
    "When you initally create a Git repository, no files are tracked by default.\n",
    "\n",
    "You need to tell which files you want to track by using `git add` command to stage them.\n",
    "\n",
    "Once you have staged a file, Git will start tracking it and will include it in the next commit."
   ]
  },
  {
   "cell_type": "markdown",
   "id": "59abc643",
   "metadata": {},
   "source": [
    "## What is Unstaged?\n",
    "\n",
    "\"Unstaged\" refers to changes that you have made to your files in your Git repository that have not yet been added to thee staging area using the git add command.\n",
    "\n",
    "When you make changes to files in your Git repository, Git is aware of those changes, but they are considered to be unstaged until you explicitly tell Git to include them in the staging area.\n",
    "\n",
    "`git status` command will show you that the file has been modified, but it will be listed as \"unstaged\".\n",
    "\n",
    "This means that the changes you've made have not yet been included in the next commit.\n",
    "\n",
    "### What is Staged and Staging Area?\n",
    "\n",
    "The staging area/index allows you to control which changes you want to include in your next commit.\n",
    "\n",
    "You can carefully review your changes and make sure that you are only committing the changes that you want to include in the next snapshot of the project.\n",
    "\n",
    "It also allows you to break up large changes into smaller, more manageable commits, which can make it easier to understand the history of the project over time.\n",
    "\n",
    "When you make changes to files in your Git repository, these changes are initially considered as \"unstaged\". This means that Git is aware of the changes, but it has not yet committed them to the repository.\n",
    "\n",
    "To commit changes to the repository, you need to first stage them using `git add` command. This command adds your changes to the staging area, which is like a holding area for changes that you are planning to commit."
   ]
  },
  {
   "cell_type": "markdown",
   "id": "2d271456",
   "metadata": {},
   "source": [
    "## What is Snapshot?\n",
    "\n",
    "A \"snapshot\" refers to a specific point in time in the history of a Git repository.\n",
    "\n",
    "When you create a commit in Git, you are essentially taking a snapshot of the current state of the repository at that moment.\n",
    "\n",
    "A snapshot captures all the changes you've made to the files in your repository up to that point, along with information about who made the changes and when they were made.\n",
    "\n",
    "Each commit in a Git repository is a unqiue snapshot that represents a specific version of the project.\n",
    "\n",
    "## What is Commit?\n",
    "\n",
    "A \"commit\" in Git is a snapshot of your repository at a particular point in time.\n",
    "\n",
    "It represents a specific set of changes that you have made to your files and it is permanently saved to the repository's history.\n",
    "\n",
    "When you create a commit in Git, you are essentially creating a new version of your project. Each commit has a unique identifier(a long string of characters called as \"hash\") that allows you to refer to it later if you need to.\n",
    "\n",
    "To create a commit you first need to stage your changes.\n",
    "\n",
    "This tells Git which changes you want to include in the next commit.\n",
    "\n",
    "Committing your changes frequently is a best practice in Git. It allows you to keep a history of your project's development, and it makes it easier to collaborate with others because everyone can see the changes that have been made over time."
   ]
  },
  {
   "cell_type": "markdown",
   "id": "31d2f472",
   "metadata": {},
   "source": [
    "## What is HEAD?\n",
    "\n",
    "\"HEAD\" refers to the current state of your repository.\n",
    "\n",
    "It is a reference to the most recent commit that you have made, and it's typically the parent of the next commit that you will create.\n",
    "\n",
    "You can think of the HEAD as a pointer to a branch in your repository's history.\n",
    "\n",
    "When you create a new commit, Git updates the HEAD to point to the new commit, and the new commit becomes the new \"head\" of the branch."
   ]
  },
  {
   "cell_type": "markdown",
   "id": "fb2ddad1",
   "metadata": {},
   "source": [
    "## What is Branch?\n",
    "\n",
    "A \"branch\" is a separate line of development that allows you to work on different versions of your project simultaneously.\n",
    "\n",
    "Each branch represents a different version of your repository's history, with its own set of commits and changes.\n",
    "\n",
    "When you create a new branch, it starts off as a copy of the current branch or commit (usually the \"master\" or \"main\" branch), and you can make changes to the files in your repository without affecting the original branch.\n",
    "\n",
    "This allows you to experiment with new features or changes without risking the stability of the main branch.\n",
    "\n",
    "It's important to note that when you create a new branch, it doesn't create a new copy of all the files in your repository - it simply creates a new pointer to a specific commit in your repository's history.\n",
    "\n",
    "You can also create new branches, delete branches that are no longer needed and merge branches together to combine changes from multiple branches into a single branch."
   ]
  },
  {
   "cell_type": "markdown",
   "id": "186f3880",
   "metadata": {},
   "source": [
    "## What is Tag?\n",
    "\n",
    "A tag is a label that is assigned to a specific commit in a repository.\n",
    "\n",
    "It is used to mark important points in the project history, such as release points or milestones.\n",
    "\n",
    "Tags provide a way to bookmark specific commits, making them easy to reference later.\n",
    "\n",
    "Unlike branches, tags are not meant to be updated or changed after they are created.\n",
    "\n",
    "They are simply a way to mark a specific commit and make it easy to refer to in the future"
   ]
  },
  {
   "cell_type": "markdown",
   "id": "6820ff71",
   "metadata": {},
   "source": [
    "## What is Rollback?\n",
    "\n",
    "A \"rollback\" refers to undoing a previous commit or series of commits and restoring the repository to a previous state.\n",
    "\n",
    "Rollback can be useful if you've made changes to the code that introduce bugs or errors, or if you've accidentally deleted or overwritten important files.\n",
    "\n",
    "Rollback shoud be used with caution, as it can potentially cause data loss or other unintended consequences if not done carefully."
   ]
  },
  {
   "cell_type": "markdown",
   "id": "f89cafdd",
   "metadata": {},
   "source": [
    "## What is Upstream ?\n",
    "\n",
    "In Git, \"upstream\" typically refers to the main remote repository that a local repository is cloned from or connected to.\n",
    "\n",
    "For example, if you clone a repository from Github, the github repository is considered the upstream repository for your local repository.\n",
    "\n",
    "This meand that you can pull changes from the upstream repository into your local repository and push changes from your local repository to the upstream repository.\n",
    "\n",
    "If you create a branch in your local repository and push it to the upstream repository, it will be referred to as an `upsteam branch` in your local repository.\n",
    "\n",
    "You can then fetch or pull changes from the upstream branch to keep your local branch up to date."
   ]
  },
  {
   "cell_type": "markdown",
   "id": "45fecd05",
   "metadata": {},
   "source": [
    "## What is Conflict Merge?\n",
    "\n",
    "Conflict merges can occur when multiple developers are working on the same project and making changes to the same files, or when a single developer is working on multiple branches and making conflicting changes to the same files.\n",
    "\n",
    "Git tries to automatically merge the changes, but if it can't determine which changes to keep, it will stop and mark the file as having a conflict."
   ]
  }
 ],
 "metadata": {
  "kernelspec": {
   "display_name": "Python 3 (ipykernel)",
   "language": "python",
   "name": "python3"
  },
  "language_info": {
   "codemirror_mode": {
    "name": "ipython",
    "version": 3
   },
   "file_extension": ".py",
   "mimetype": "text/x-python",
   "name": "python",
   "nbconvert_exporter": "python",
   "pygments_lexer": "ipython3",
   "version": "3.10.11"
  }
 },
 "nbformat": 4,
 "nbformat_minor": 5
}
