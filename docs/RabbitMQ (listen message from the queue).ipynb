{
 "cells": [
  {
   "cell_type": "code",
   "execution_count": null,
   "id": "cd1ef097-ab57-4d39-b60d-13e1326a44d3",
   "metadata": {},
   "outputs": [],
   "source": [
    "import pika\n",
    "\n",
    "# Establish a connection to RabbitMQ\n",
    "rabbitmq_host = \"localhost\"\n",
    "rabbitmq_port = 5672\n",
    "username = \"guest\"\n",
    "password = \"guest\"\n",
    "queue_name = \"queue\"\n",
    "\n",
    "\n",
    "def callback(ch, method, properties, body) -> None:\n",
    "    \"\"\"\n",
    "    Callback function to process incoming messages from RabbitMQ.\n",
    "\n",
    "    Args:\n",
    "        ch: RabbitMQ channel\n",
    "        method: RabbitMQ method\n",
    "        properties: RabbitMQ properties\n",
    "        body: Message body\n",
    "\n",
    "    Returns:\n",
    "        None\n",
    "    \"\"\"\n",
    "    print(f\"Received {body}\")\n",
    "    \n",
    "# Create a connection to the RabbitMQ server with credentials\n",
    "credentials = pika.PlainCredentials(username, password)\n",
    "connection = pika.BlockingConnection(\n",
    "    pika.ConnectionParameters(\n",
    "        host=rabbitmq_host,\n",
    "        port=rabbitmq_port,\n",
    "        credentials=credentials,\n",
    "        heartbeat=0,\n",
    "    )\n",
    ")\n",
    "channel = connection.channel()\n",
    "\n",
    "# Declare the queue (this is idempotent, it won't create the queue if it already exists)\n",
    "channel.queue_declare(queue=queue_name, durable=True)\n",
    "\n",
    "# Set up the consumer\n",
    "channel.basic_consume(queue=queue_name, on_message_callback=callback)\n",
    "\n",
    "# Start consuming messages\n",
    "print(\"Waiting for a single message. To exit, press CTRL+C\")\n",
    "channel.start_consuming()"
   ]
  }
 ],
 "metadata": {
  "kernelspec": {
   "display_name": "Python 3 (ipykernel)",
   "language": "python",
   "name": "python3"
  },
  "language_info": {
   "codemirror_mode": {
    "name": "ipython",
    "version": 3
   },
   "file_extension": ".py",
   "mimetype": "text/x-python",
   "name": "python",
   "nbconvert_exporter": "python",
   "pygments_lexer": "ipython3",
   "version": "3.12.0"
  }
 },
 "nbformat": 4,
 "nbformat_minor": 5
}
