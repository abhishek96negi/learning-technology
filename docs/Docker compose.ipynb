{
 "cells": [
  {
   "cell_type": "markdown",
   "id": "4a45e979",
   "metadata": {},
   "source": [
    "## What is Docker Compose ?\n",
    "\n",
    "Compose is a tool for defining and running multi-container Docker applications.\n",
    "\n",
    "With Compose, you use a YAML file to configure your application's services.\n",
    "\n",
    "Then, with a single command, you create and start all the services from your configuration.\n",
    "\n",
    "Compose works in all environments: production, staging, development, testing, as well as CI workflows.\n",
    "\n",
    "Docker Desktop includes Docker Compose along with Docker Engine and Docker CLI which are Compose pre-requisites.\n",
    "\n",
    "Following are use Cases of Docker Compose:\n",
    "\n",
    "* Devlopment environments\n",
    "* Automated testing environments\n",
    "* Single host deployments"
   ]
  },
  {
   "cell_type": "markdown",
   "id": "bec2e431",
   "metadata": {},
   "source": [
    "### Docker Compose Key Features\n",
    "\n",
    "* Have multiple isolated environments on a single host\n",
    "* Preserves volume data when containers are created.\n",
    "* Only recreate containers that have changed.\n",
    "* Supports variable and moving a composition between environments."
   ]
  },
  {
   "cell_type": "markdown",
   "id": "248f707e",
   "metadata": {},
   "source": [
    "### docker-compose.yml\n",
    "\n",
    "    services:\n",
    "        web:\n",
    "            image: nginx\n",
    "        redis:\n",
    "            image: redis:6.0-alpine3.18"
   ]
  },
  {
   "cell_type": "markdown",
   "id": "d2bc6353",
   "metadata": {},
   "source": [
    "### Commands\n",
    "\n",
    "* `docker compose --help` - This command is used to see other available commands.\n",
    "* `docker compose up` - This command will take the docker-compose.yml file and start building container. This command will download/pull required images and create/start required containers. If we modify docker-compose.yml file and again run docker compose up then it will only recreate modified containers.\n",
    "* `docker compose up -d` - It is same as docker compose up but it will run in the background which means it won't occupy terminal.\n",
    "* `docker compose ps` - This command is used to list currently running service.\n",
    "* `docker compose exec service_name mysql -u root -p` - This command is used to get access the terminal of container.\n",
    "* `docker compose stop` - This command is used to stop compose started using docker compose up -d.\n",
    "* `docker compose down` - This command is used to remove containers entirely. It will not remove volumes. If you want to remove volumes then use --volumes flag."
   ]
  }
 ],
 "metadata": {
  "kernelspec": {
   "display_name": "Python 3 (ipykernel)",
   "language": "python",
   "name": "python3"
  },
  "language_info": {
   "codemirror_mode": {
    "name": "ipython",
    "version": 3
   },
   "file_extension": ".py",
   "mimetype": "text/x-python",
   "name": "python",
   "nbconvert_exporter": "python",
   "pygments_lexer": "ipython3",
   "version": "3.10.11"
  }
 },
 "nbformat": 4,
 "nbformat_minor": 5
}
