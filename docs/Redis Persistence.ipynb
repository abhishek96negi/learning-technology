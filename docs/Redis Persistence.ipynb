{
 "cells": [
  {
   "cell_type": "markdown",
   "id": "cc8e37c6",
   "metadata": {},
   "source": [
    "Persistence refers to the writing of data to durable storage, such as a solid-state disk (SSD). Redis provides a range of persistence options. These include:\n",
    "\n",
    "* No persistence\n",
    "* RDB (Redis Database)\n",
    "* AOF (Append Only File)\n",
    "* RDB + AOF"
   ]
  },
  {
   "cell_type": "markdown",
   "id": "d2a29d53",
   "metadata": {},
   "source": [
    "## No Persistence\n",
    "\n",
    "You can disable persistence completely. This is sometimes used when caching."
   ]
  },
  {
   "cell_type": "markdown",
   "id": "5bc02d2a",
   "metadata": {},
   "source": [
    "## Redis Database (RDB)\n",
    "\n",
    "RDB persistence performs point-in-time snapshots of your dataset at specified intervals.\n",
    "\n",
    "By default Redis saves snapshots of the dataset on disk, in a binary file called **dump.rdb**.\n",
    "\n",
    "You can configure Redis to have it save the dataset every N seconds if there are at least M key changes in the dataset, or you can manually call the SAVE or BGSAVE commands. This strategy is known as snapshotting.\n",
    "\n",
    "**Example:- **\n",
    "\n",
    "* save 3600 1\n",
    "* save \"\""
   ]
  },
  {
   "cell_type": "markdown",
   "id": "8aa0dfbe",
   "metadata": {},
   "source": [
    "## Append Only File (AOF)\n",
    "\n",
    "* AOF persistence logs every write operation received by the server.\n",
    "* These operations can then be replayed again at server startup, reconstructing the original dataset.\n",
    "* Commands are logged using the same format as the Redis protocol itself.\n",
    "* Snapshotting is not very durable. If your computer running Redis stops, your power line fails, or you accidentally kill -9 your instance, the latest data written to Redis will be lost.\n",
    "* While this may not be a big deal for some applications, there are use cases for full durability, and in these cases Redis snapshotting alone is not a viable option.\n",
    "* The append-only file is an alternative, fully-durable strategy for Redis.\n",
    "* You can turn on the AOF in your configuration file:\n",
    "        \n",
    "        appendonly yes\n",
    "* Every time Redis receives a command that changes the dataset (e.g. SET) it will append it to the AOF. When you restart Redis it will re-play the AOF to rebuild the state.      "
   ]
  },
  {
   "cell_type": "markdown",
   "id": "166618b7",
   "metadata": {},
   "source": [
    "## Use Cases\n",
    "\n",
    "You should use Persistence if you need Data durability, Fast Recovery, Compliance and regulations, Data analysis and reporting etc.\n",
    "\n",
    "You shouldn't use Persistence if you need Caching and temporary data, High write throughput, Session storage and short-lived data, In-memory database etc."
   ]
  }
 ],
 "metadata": {
  "kernelspec": {
   "display_name": "Python 3 (ipykernel)",
   "language": "python",
   "name": "python3"
  },
  "language_info": {
   "codemirror_mode": {
    "name": "ipython",
    "version": 3
   },
   "file_extension": ".py",
   "mimetype": "text/x-python",
   "name": "python",
   "nbconvert_exporter": "python",
   "pygments_lexer": "ipython3",
   "version": "3.10.11"
  }
 },
 "nbformat": 4,
 "nbformat_minor": 5
}
