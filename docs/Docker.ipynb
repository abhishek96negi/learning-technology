{
 "cells": [
  {
   "cell_type": "markdown",
   "id": "2966803d",
   "metadata": {},
   "source": [
    "## What is Docker?\n",
    "\n",
    "Docker is an open-source platform that allows you to automate the deployment and management of applications within lightweight, isolated software containers.\n",
    "\n",
    "## Advantages of using Docker:\n",
    "\n",
    "* **Portability**:- Docker containers can run on any system, ensuring consistent behaviour across different enviornments.\n",
    "\n",
    "* **Isolation**:- Containers provide isolation, preventing interference between applications and dependencies.\n",
    "\n",
    "* **Efficiency**:- Docker containers are lightweight and start quickly, optimizing resource utilization.\n",
    "\n",
    "* **Scalability**:- Docker simplifies scaling by easily replicating and distributing containers.\n",
    "\n",
    "* **Versioning and Rollback**:- Docker enables versioning and rollback of containerized applications.\n",
    "\n",
    "* **Dependency Management**:- Docker packages applications with their dependencies, avoiding conflicts.\n",
    "\n",
    "* **Collaboration**:- Docker facilitates sharing and collaboration among developers and teams."
   ]
  },
  {
   "cell_type": "markdown",
   "id": "c5e803a2",
   "metadata": {},
   "source": [
    "## What is Dockerfile\n",
    "\n",
    "A Dockerfile is a text file that contains instructions on how to build a Docker image.\n",
    "\n",
    "It specifies the base image, the application code, dependencies, and other configurations needed to create a runnable image."
   ]
  },
  {
   "cell_type": "markdown",
   "id": "a6eaf0d4",
   "metadata": {},
   "source": [
    "## What is Docker Image\n",
    "\n",
    "An image is a lightweight, standalone, and executable software package that includes everython needed to run an application, including the code, runtime, system tools, libraries, and settings.\n",
    "\n",
    "Docker images are created from a base image and can be customized and layered with additional components."
   ]
  },
  {
   "cell_type": "markdown",
   "id": "3f71d1ab",
   "metadata": {},
   "source": [
    "## What is Docker Container\n",
    "\n",
    "Containers are isolated enviroments that encapsulate an application and its dependencies, including libraries, frameworks, and other software components.\n",
    "\n",
    "Each container runs as an isolated process on the host machine and has its own file system, networking, and resources.\n",
    "\n",
    "You can create multiple Containers of one Docker Image."
   ]
  },
  {
   "cell_type": "markdown",
   "id": "daf7c8a0",
   "metadata": {},
   "source": [
    "## What is Docker Compose\n",
    "\n",
    "Docker Compose is a tool for defining and managing multi-container applications.\n",
    "\n",
    "It allows you to define a multi-container setup in a YAML file, specifying the containers, their configurations, how they communicate with each other.\n",
    "\n",
    "Docker Compose simplifies the process of running complex applications with multiple interconnected containers."
   ]
  },
  {
   "cell_type": "markdown",
   "id": "909ddcb5",
   "metadata": {},
   "source": [
    "## What is Container Registry\n",
    "\n",
    "A container registry is a centralized repository for storing and sharing container images.\n",
    "\n",
    "It allows you to manage and distribute containerized applications, ensuring secure access, versioning, and image integrity.\n",
    "\n",
    "**Example**:-\n",
    "\n",
    "* Docker Hub\n",
    "* Amazon Elastic Container Registry (ECR)\n",
    "* Azure Container Registry (ACR)\n",
    "* GitHub Container Registry (GHCR)\n",
    "* GitLab Container Registry "
   ]
  },
  {
   "cell_type": "markdown",
   "id": "5de4a81e",
   "metadata": {},
   "source": [
    "## What is Docker Container Registry\n",
    "\n",
    "A Docker registry is a central repository that stores Docker images.\n",
    "\n",
    "The most commonly used registry id `Docker Hub`, which is a public registry where you can find a wide variety of pre-built Docker images.\n",
    "\n",
    "You can also set up your private registry to store and distribute your own custom images."
   ]
  },
  {
   "cell_type": "markdown",
   "id": "f9322666",
   "metadata": {},
   "source": [
    "## What is Base Image\n",
    "\n",
    "A base image, refers to the initial starting point for building a Docker image.\n",
    "\n",
    "It serves as the foundation or template on which you can add or customize additional layers to create your specific application image.\n",
    "\n",
    "A base image is typically a pre-built and reusable image that contains a specific software stack.\n",
    "\n",
    "It provides the necessary runtime environment and libraries for running applications within Docker containers.\n",
    "\n",
    "**For Example**, you might use a base image that includes a lightweight Linux distribution, such as Apline Linux or Ubuntu, as the foundation for your application.\n",
    "\n",
    "Regularly updating your base image and applying security patches is also recommended to ensure the overall security of your containerized applications."
   ]
  },
  {
   "cell_type": "markdown",
   "id": "581219f2",
   "metadata": {},
   "source": [
    "![docker1](../image/docker/docker1.png)"
   ]
  },
  {
   "cell_type": "markdown",
   "id": "c32e98fe",
   "metadata": {},
   "source": [
    "## Docker Container vs Virtual Machine\n",
    "\n",
    "Docker containers are lighweight, share the host OS kernel, start quickly, and have efficient resource usage.\n",
    "\n",
    "Virtual machine are more isolated, require a separate OS, take longer to start, and have direct hardware access."
   ]
  },
  {
   "cell_type": "markdown",
   "id": "d6a3f2a8",
   "metadata": {},
   "source": [
    "## What is Docker Volume\n",
    "\n",
    "* Docker volume is a feature provided by Docker that allows you to manage persisent data in Docker containers.\n",
    "\n",
    "* When a Conatiner is created and started, it generally runs in an isolated environment with its own file system.\n",
    "\n",
    "* However, any data stored within the container is typically non-persistent, meaning it will be lost when the container is stopped or removed.\n",
    "\n",
    "* Docker Volumes provide a way to overcome this limitation by allowing you to create a separate storage area that can be shared between containers or between a container and the host system.\n",
    "\n",
    "* Volumes provide a mechanism for storing and managing data separately from the container itself, ensuring that the data persists even if the container is stopped or deleted.\n",
    "\n",
    "* A Docker Volume is essentially a directory or a mount point located outside the container's file system, which is mapped to a specific path within the container.\n",
    "\n",
    "* This mapping enables the container to read from or write to the volume as if it were a regular directory within the container.\n",
    "\n",
    "* Docker volume is not created inside a container. Instead, a Docker volume is created separately from the container and can be mounted to one or more containers.\n",
    "\n",
    "* It is independent and can be associated with one or more containers."
   ]
  },
  {
   "cell_type": "markdown",
   "id": "8285e73d",
   "metadata": {},
   "source": [
    "### Advantages of Docker Volume\n",
    "\n",
    "* Volumes are easier to back up or migrate than bind mounts.\n",
    "* You can manage volumes using Docker CLI commands or the Docker API.\n",
    "* Volumes work on both Linux and Windows containers.\n",
    "* Volumes can be more safely shared among multiple containers.\n",
    "* Volume drivers let you store volumes on remote hosts or cloud providers, to encrypt the contents of volumes, or to add other functionality.\n",
    "* New volumes can have their content pre-populated by a container.\n",
    "* Volumes on Docker Desktop have much higher performance than bind mounts from Mac and Windows hosts."
   ]
  },
  {
   "cell_type": "markdown",
   "id": "ff34db4c",
   "metadata": {},
   "source": [
    "### Commands\n",
    "\n",
    "* `docker volume create volume_name`: It is used to create volume.\n",
    "* `docker volume ls`: It is used to list volumes.\n",
    "* `docker volume inspect volume_name`: It is used to inspect volume.\n",
    "* `docker volume rm volume_name`: It is used to remove volume.\n",
    "* `docker volume prune`: It is used to remove all volumes.\n",
    "* `docker run -d --name container_name -v volume_name:/app nginx`: It is used to start a container and create a volume if volume doesn't exists.\n",
    "* `docker run -d --name container_name -v volume_name:/app:ro nginx`: It is used to start a container and create a read only volume if volume doesn't exists."
   ]
  },
  {
   "cell_type": "markdown",
   "id": "6eafc796",
   "metadata": {},
   "source": [
    "## Between Host and Container\n",
    "\n",
    "* We can share data between host to container without creating docker volume by directly mounting host directory to container directory.\n",
    "\n",
    "`docker run -itd --name python-c1 -v /local_path: /container_path python`\n",
    "\n",
    "`docker exec -it python-c1 bash`"
   ]
  },
  {
   "cell_type": "markdown",
   "id": "e2d0fb99",
   "metadata": {},
   "source": [
    "## Between Containers\n",
    "\n",
    "To share a volume between two Docker containers, you can create a Docker volume and then mount it to both containers.\n",
    "\n",
    "![docker2](../image/docker/docker2.png)\n",
    "\n",
    "**Create Volume then mount to container**\n",
    "\n",
    "* `docker volume create myvol`\n",
    "* `docker run --name c1 -itd -v myvol:/myapp python`\n",
    "* `docker run --name c2 -itd -v myvol:/myapp1 python`\n",
    "\n",
    "\n",
    "**Create Container with volume**\n",
    "\n",
    "* `docker run --name c1 -itd -v /myvol python`\n",
    "* `docker run --name c2 -itd --volume-from c1 python`\n"
   ]
  },
  {
   "cell_type": "markdown",
   "id": "b9cec085",
   "metadata": {},
   "source": [
    "## Volume with Dockerfile\n",
    "\n",
    "`FROM ubuntu`\n",
    "`VOLUME [\"/data\"]`\n",
    "\n",
    "This line VOLUME /data in the Dockerfile is an instruction that tells Docker to create a mount point for a volume inside the conatiner. It specifies that the directory /data should be treated as a volume.\n",
    "\n",
    "It means that any data written to or read from the /data directory within the container will be stored outside the container in a volume.\n",
    "\n",
    "Note that the VOLUME instruction in the Dockerfile does not create the volume itself.\n",
    "\n",
    "It merely sets up the mount point within the container. THe actual volume created when you run the container and specify a volume name or path using the -v flag.\n",
    "\n",
    "Dockerfile\n",
    "\n",
    "        FROM ubuntu\n",
    "        VOLUME [\"/data\"]\n",
    "\n",
    "* `docker build -t myimage .`\n",
    "* `docker run --name c1 -itd -v myvol:/data myimage`\n",
    "* `docker run --name c2 -itd --volume-from c1 myimage`"
   ]
  },
  {
   "cell_type": "markdown",
   "id": "b1ff1376",
   "metadata": {},
   "source": [
    "## What is Docker Networking\n",
    "\n",
    "Docker networking is a fundamental aspect of Docker that enables communication between Docker containers and external networks. It allows you to connect containers together, as well as connect containers to the host machine and other external resources.\n",
    "\n",
    "A container has no information about what kind of network it's attached to, or whether their peers are also Docker workloads or not.\n",
    "\n",
    "A container only sees a network interface with an IP address, a gateway, a routing table, DNS services, and other networking details.\n",
    "\n",
    "By default, when you create or run a container using create or docker run, the container doesn't expose any of its ports to the outside world.\n",
    "\n",
    "Use the --publish or -p flag to make a port available to services outside of Docker. This creates a firewall rule in the host, mapping a container port to a port on the Docker host to the outside world."
   ]
  },
  {
   "cell_type": "markdown",
   "id": "7de2f188",
   "metadata": {},
   "source": [
    "### Network Drivers\n",
    "\n",
    "* **bridge** :- The default bridge network is good for running containers that don't require special networking capabilities. User-defined bridge networks enable containers on the same Docker host to communicate with each other. A user-defined network typically defines an isolated network for multiple conatiners belonging to a common project or component.\n",
    "\n",
    "* **host** :- Host network shares the host's netwokr with the container. When you use this driver, the container's network isn't isolated from the host.\n",
    "\n",
    "* **overlay** :- Overlay network are best when you need containers running on different Docker hosts to communicate, or when multiple applications work together using Swarm services.\n",
    "\n",
    "* **macvlan** :- Macvlan networks are best when you are migrating from a VC setup or need your container to look like physical hosts on your network, each with a unique MAC address.\n",
    "\n",
    "* **ipvlan** :- IPvlan is similar to Macvlan, but doesn't assign unique MAC addresses to containers. Consider using IPvlan when there's a restriction on the number of MAC addresses that can be assigned to a network interface or port.\n",
    "\n",
    "* **none** :- No Networking\n",
    "\n",
    "* Network plugins"
   ]
  },
  {
   "cell_type": "markdown",
   "id": "73314556",
   "metadata": {},
   "source": [
    "### Bridge Network Drivers\n",
    "\n",
    "In terms of Docker, a bridge network uses a software bridge which allows containers connected to the same bridge network to communicate, while providing isolation from containers which are not connected to that bridge network.\n",
    "\n",
    "The Docker bridge driver automatically installs rules in the host machine so that containers on different bridge networks cannot communicate directly with each other.\n",
    "\n",
    "Bridge network apply to containers running on the same Docker daemon host.\n",
    "\n",
    "When you start Docker, a default bridge network (also called bridge) is created automatically, and newly-started containers connect to it unless otherwise specified.\n",
    "\n",
    "### Default Bridge Network\n",
    "\n",
    "![docker3](../image/docker/docker3.png)\n",
    "\n",
    "* Containers can communicate to each other.\n",
    "* Container and Host can communicate via bridge\n",
    "* Containers can only communicate by IP address, not by container name.\n",
    "\n",
    "### User-defined Bridge Network\n",
    "\n",
    "![docker4](../image/docker/docker4.png)\n",
    "\n",
    "* Possible to achieve isolation of container.\n",
    "* C1 and C2 can communicate to each other and to Host via bridge default.\n",
    "* C3 can't communicate to C1 and C2 but can communicate to Host via bridge net1.\n",
    "* Containers can communicate by IP address & also resolve a container name to an IP address. This capability called automatic service discovery.\n",
    "\n",
    "### Commands\n",
    "\n",
    "* `docker network ls`: It is used to list all networks. Bridge is the default network.\n",
    "* `docker network inspect bridge`: It is used to inspect bridge network to see what containers are connected to it.\n",
    "* `docker network create --driver bridge network_name`: It is used to create user-defined bridge network.\n",
    "* `docker network inspect network_name`: It is used to inspect network.\n",
    "* `docker run --name container_name -itd --network_name alpine`: It is used to connect a container to a specified network e.g. host, user-defined bridge.\n",
    "* `docker network connect container_name network_name`: It is used to connect a running container to an existing user-defined bridge.\n",
    "* `docker network disconnect container_name network_name`: It is used to connect a disconnect a running container to an existing user-defined bridge."
   ]
  },
  {
   "cell_type": "markdown",
   "id": "59427bff",
   "metadata": {},
   "source": [
    "### Host Network\n",
    "\n",
    "![docker5](../image/docker/docker5.png)\n",
    "\n",
    "* It allows a container to use the networking stack of the host machine directly.\n",
    "* The container shares the host's network namespace, and the container processes can bind to host ports directly."
   ]
  },
  {
   "cell_type": "markdown",
   "id": "7ae61097",
   "metadata": {},
   "source": [
    "### Overlay Network\n",
    "\n",
    "![docker6](../image/docker/docker6.png)\n",
    "\n",
    "Overlay networks enable communication betwenn Docker containers running on different Hosts.\n",
    "\n",
    "They are particularly useful in distributed or clustered setups where containers span multiple machines.\n",
    "\n",
    "Overlay networks require a container orchestration tool, such as Docker Swarm or Kubernetes, to manage the network across multiple hosts."
   ]
  }
 ],
 "metadata": {
  "kernelspec": {
   "display_name": "Python 3 (ipykernel)",
   "language": "python",
   "name": "python3"
  },
  "language_info": {
   "codemirror_mode": {
    "name": "ipython",
    "version": 3
   },
   "file_extension": ".py",
   "mimetype": "text/x-python",
   "name": "python",
   "nbconvert_exporter": "python",
   "pygments_lexer": "ipython3",
   "version": "3.10.11"
  }
 },
 "nbformat": 4,
 "nbformat_minor": 5
}
