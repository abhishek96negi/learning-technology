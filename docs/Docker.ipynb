{
 "cells": [
  {
   "cell_type": "markdown",
   "id": "2966803d",
   "metadata": {},
   "source": [
    "## What is Docker?\n",
    "\n",
    "Docker is an open-source platform that allows you to automate the deployment and management of applications within lightweight, isolated software containers.\n",
    "\n",
    "## Advantages of using Docker:\n",
    "\n",
    "* **Portability**:- Docker containers can run on any system, ensuring consistent behaviour across different enviornments.\n",
    "\n",
    "* **Isolation**:- Containers provide isolation, preventing interference between applications and dependencies.\n",
    "\n",
    "* **Efficiency**:- Docker containers are lightweight and start quickly, optimizing resource utilization.\n",
    "\n",
    "* **Scalability**:- Docker simplifies scaling by easily replicating and distributing containers.\n",
    "\n",
    "* **Versioning and Rollback**:- Docker enables versioning and rollback of containerized applications.\n",
    "\n",
    "* **Dependency Management**:- Docker packages applications with their dependencies, avoiding conflicts.\n",
    "\n",
    "* **Collaboration**:- Docker facilitates sharing and collaboration among developers and teams."
   ]
  },
  {
   "cell_type": "markdown",
   "id": "c5e803a2",
   "metadata": {},
   "source": [
    "## What is Dockerfile\n",
    "\n",
    "A Dockerfile is a text file that contains instructions on how to build a Docker image.\n",
    "\n",
    "It specifies the base image, the application code, dependencies, and other configurations needed to create a runnable image."
   ]
  },
  {
   "cell_type": "markdown",
   "id": "a6eaf0d4",
   "metadata": {},
   "source": [
    "## What is Docker Image\n",
    "\n",
    "An image is a lightweight, standalone, and executable software package that includes everython needed to run an application, including the code, runtime, system tools, libraries, and settings.\n",
    "\n",
    "Docker images are created from a base image and can be customized and layered with additional components."
   ]
  },
  {
   "cell_type": "markdown",
   "id": "3f71d1ab",
   "metadata": {},
   "source": [
    "## What is Docker Container\n",
    "\n",
    "Containers are isolated enviroments that encapsulate an application and its dependencies, including libraries, frameworks, and other software components.\n",
    "\n",
    "Each container runs as an isolated process on the host machine and has its own file system, networking, and resources.\n",
    "\n",
    "You can create multiple Containers of one Docker Image."
   ]
  },
  {
   "cell_type": "markdown",
   "id": "daf7c8a0",
   "metadata": {},
   "source": [
    "## What is Docker Compose\n",
    "\n",
    "Docker Compose is a tool for defining and managing multi-container applications.\n",
    "\n",
    "It allows you to define a multi-container setup in a YAML file, specifying the containers, their configurations, how they communicate with each other.\n",
    "\n",
    "Docker Compose simplifies the process of running complex applications with multiple interconnected containers."
   ]
  },
  {
   "cell_type": "markdown",
   "id": "909ddcb5",
   "metadata": {},
   "source": [
    "## What is Container Registry\n",
    "\n",
    "A container registry is a centralized repository for storing and sharing container images.\n",
    "\n",
    "It allows you to manage and distribute containerized applications, ensuring secure access, versioning, and image integrity.\n",
    "\n",
    "**Example**:-\n",
    "\n",
    "* Docker Hub\n",
    "* Amazon Elastic Container Registry (ECR)\n",
    "* Azure Container Registry (ACR)\n",
    "* GitHub Container Registry (GHCR)\n",
    "* GitLab Container Registry "
   ]
  },
  {
   "cell_type": "markdown",
   "id": "5de4a81e",
   "metadata": {},
   "source": [
    "## What is Docker Container Registry\n",
    "\n",
    "A Docker registry is a central repository that stores Docker images.\n",
    "\n",
    "The most commonly used registry id `Docker Hub`, which is a public registry where you can find a wide variety of pre-built Docker images.\n",
    "\n",
    "You can also set up your private registry to store and distribute your own custom images."
   ]
  },
  {
   "cell_type": "markdown",
   "id": "f9322666",
   "metadata": {},
   "source": [
    "## What is Base Image\n",
    "\n",
    "A base image, refers to the initial starting point for building a Docker image.\n",
    "\n",
    "It serves as the foundation or template on which you can add or customize additional layers to create your specific application image.\n",
    "\n",
    "A base image is typically a pre-built and reusable image that contains a specific software stack.\n",
    "\n",
    "It provides the necessary runtime environment and libraries for running applications within Docker containers.\n",
    "\n",
    "**For Example**, you might use a base image that includes a lightweight Linux distribution, such as Apline Linux or Ubuntu, as the foundation for your application.\n",
    "\n",
    "Regularly updating your base image and applying security patches is also recommended to ensure the overall security of your containerized applications."
   ]
  },
  {
   "cell_type": "markdown",
   "id": "581219f2",
   "metadata": {},
   "source": [
    "![docker1](../image/docker/docker1.png)"
   ]
  },
  {
   "cell_type": "markdown",
   "id": "c32e98fe",
   "metadata": {},
   "source": [
    "## Docker Container vs Virtual Machine\n",
    "\n",
    "Docker containers are lighweight, share the host OS kernel, start quickly, and have efficient resource usage.\n",
    "\n",
    "Virtual machine are more isolated, require a separate OS, take longer to start, and have direct hardware access."
   ]
  }
 ],
 "metadata": {
  "kernelspec": {
   "display_name": "Python 3 (ipykernel)",
   "language": "python",
   "name": "python3"
  },
  "language_info": {
   "codemirror_mode": {
    "name": "ipython",
    "version": 3
   },
   "file_extension": ".py",
   "mimetype": "text/x-python",
   "name": "python",
   "nbconvert_exporter": "python",
   "pygments_lexer": "ipython3",
   "version": "3.10.11"
  }
 },
 "nbformat": 4,
 "nbformat_minor": 5
}
